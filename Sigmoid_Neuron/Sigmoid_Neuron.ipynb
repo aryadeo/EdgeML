{
  "nbformat": 4,
  "nbformat_minor": 0,
  "metadata": {
    "colab": {
      "name": "Sigmoid_Neuron.ipynb",
      "provenance": [],
      "collapsed_sections": [],
      "include_colab_link": true
    },
    "kernelspec": {
      "name": "python3",
      "display_name": "Python 3"
    }
  },
  "cells": [
    {
      "cell_type": "markdown",
      "metadata": {
        "id": "view-in-github",
        "colab_type": "text"
      },
      "source": [
        "<a href=\"https://colab.research.google.com/github/aryadeo/EdgeML/blob/master/Sigmoid_Neuron/Sigmoid_Neuron.ipynb\" target=\"_parent\"><img src=\"https://colab.research.google.com/assets/colab-badge.svg\" alt=\"Open In Colab\"/></a>"
      ]
    },
    {
      "cell_type": "markdown",
      "metadata": {
        "id": "FUbIYAHP3_2F",
        "colab_type": "text"
      },
      "source": [
        "#PLotting 2D sigmoid"
      ]
    },
    {
      "cell_type": "markdown",
      "metadata": {
        "id": "04XykH4ABrz2",
        "colab_type": "text"
      },
      "source": [
        "The equation ofa sigmoid function is:\n",
        "\n",
        "\n",
        "**$\\sigma_{w,b}(x)=\\frac{1}{1+e^{-wx+ b }}$**"
      ]
    },
    {
      "cell_type": "code",
      "metadata": {
        "id": "ZZQGGlN9BmIA",
        "colab_type": "code",
        "colab": {}
      },
      "source": [
        "import numpy as np\n",
        "import matplotlib.pyplot as plt\n",
        "import seaborn as sns\n",
        "sns.set() "
      ],
      "execution_count": 0,
      "outputs": []
    },
    {
      "cell_type": "code",
      "metadata": {
        "id": "YR0c8BS14xTy",
        "colab_type": "code",
        "colab": {}
      },
      "source": [
        "def sig_1D(x,w,b):\n",
        "  return 1/(1+np.exp(-(w*x+b)))"
      ],
      "execution_count": 0,
      "outputs": []
    },
    {
      "cell_type": "code",
      "metadata": {
        "id": "naxY1YzE5P5i",
        "colab_type": "code",
        "colab": {
          "base_uri": "https://localhost:8080/",
          "height": 34
        },
        "outputId": "5b67714b-0b0d-4d0c-cd6c-675847330155"
      },
      "source": [
        "sig_1D(1,2,2)"
      ],
      "execution_count": 74,
      "outputs": [
        {
          "output_type": "execute_result",
          "data": {
            "text/plain": [
              "0.9820137900379085"
            ]
          },
          "metadata": {
            "tags": []
          },
          "execution_count": 74
        }
      ]
    },
    {
      "cell_type": "code",
      "metadata": {
        "id": "_Znv5xba5Uqi",
        "colab_type": "code",
        "colab": {
          "base_uri": "https://localhost:8080/",
          "height": 267
        },
        "outputId": "e851e630-5e45-49d3-a20e-762e7fd9e189"
      },
      "source": [
        "b=-3.5     #@param {type: \"slider\", min: -10, max: 10,step:0.5}\n",
        "w=1     #@param {type: \"slider\", min: -20, max: 20, step: 0.5}\n",
        "X=np.linspace(-10,10,100)\n",
        "Y=sig_1D(X,w,b)\n",
        "plt.plot(X,Y)\n",
        "plt.show()"
      ],
      "execution_count": 72,
      "outputs": [
        {
          "output_type": "display_data",
          "data": {
            "image/png": "[encoded data removed]",
            "text/plain": [
              "<Figure size 432x288 with 1 Axes>"
            ]
          },
          "metadata": {
            "tags": []
          }
        }
      ]
    },
    {
      "cell_type": "markdown",
      "metadata": {
        "id": "HM1-FPeTcYPX",
        "colab_type": "text"
      },
      "source": [
        "#Plotting 3D Sigmoid"
      ]
    },
    {
      "cell_type": "markdown",
      "metadata": {
        "id": "iZdt74lDfQDP",
        "colab_type": "text"
      },
      "source": [
        "$\\sigma_{W,b}(X)=\\frac{1}{1+e^{-(\\sum_i w_ix_i+b)}}$"
      ]
    },
    {
      "cell_type": "code",
      "metadata": {
        "id": "DGkuL0nAgOIO",
        "colab_type": "code",
        "colab": {}
      },
      "source": [
        "def sig_2D(X,W,b):\n",
        "  result=0\n",
        "  for x,w in zip(X,W):\n",
        "    result += np.sum(w*x)\n",
        "  return 1/(1+(np.exp(-(result+b))))\n"
      ],
      "execution_count": 0,
      "outputs": []
    },
    {
      "cell_type": "code",
      "metadata": {
        "id": "KyDqpzHng1aF",
        "colab_type": "code",
        "colab": {}
      },
      "source": [
        "X=np.array(([1,10],[2,20]))\n",
        "W=np.array(([1,1],[0.1,0.1]))\n",
        "b=2"
      ],
      "execution_count": 0,
      "outputs": []
    },
    {
      "cell_type": "code",
      "metadata": {
        "id": "8HYHpInXoLGn",
        "colab_type": "code",
        "colab": {
          "base_uri": "https://localhost:8080/",
          "height": 34
        },
        "outputId": "0d8daa9f-5e58-401f-9589-cffafd28c5b4"
      },
      "source": [
        "X.shape"
      ],
      "execution_count": 140,
      "outputs": [
        {
          "output_type": "execute_result",
          "data": {
            "text/plain": [
              "(2, 2)"
            ]
          },
          "metadata": {
            "tags": []
          },
          "execution_count": 140
        }
      ]
    },
    {
      "cell_type": "code",
      "metadata": {
        "id": "tZvUJsvajezw",
        "colab_type": "code",
        "colab": {
          "base_uri": "https://localhost:8080/",
          "height": 34
        },
        "outputId": "dcb25347-f02e-479e-e166-cc9e70d6f360"
      },
      "source": [
        "result_f=sig_2D(X,W,b)\n",
        "print(result_f)"
      ],
      "execution_count": 141,
      "outputs": [
        {
          "output_type": "stream",
          "text": [
            "0.9999997495484255\n"
          ],
          "name": "stdout"
        }
      ]
    },
    {
      "cell_type": "code",
      "metadata": {
        "id": "43_7ifpPo17x",
        "colab_type": "code",
        "colab": {}
      },
      "source": [
        ""
      ],
      "execution_count": 0,
      "outputs": []
    }
  ]
}